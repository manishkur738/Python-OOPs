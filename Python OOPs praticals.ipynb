{
 "cells": [
  {
   "cell_type": "markdown",
   "id": "22c2ff67-83fd-4e33-a71f-47333734b9d1",
   "metadata": {},
   "source": [
    "**1. Create a parent class Animal with a method speak() that prints a generic message. Create a child class Dog\n",
    "that overrides the speak() method to print \"Bark!\".**"
   ]
  },
  {
   "cell_type": "code",
   "execution_count": 1,
   "id": "cf6c4296-7674-4ed1-83e2-b89c943191fa",
   "metadata": {},
   "outputs": [],
   "source": [
    "class Animal:\n",
    "    def speak(self):\n",
    "        print(\"Animal makes a sound\")\n",
    "\n",
    "class Dog(Animal):\n",
    "    def speak(self):\n",
    "        print(\"bark!\")"
   ]
  },
  {
   "cell_type": "code",
   "execution_count": 2,
   "id": "5a54dd9a-e128-488f-bd6e-7d933430f427",
   "metadata": {},
   "outputs": [
    {
     "name": "stdout",
     "output_type": "stream",
     "text": [
      "Animal makes a sound\n"
     ]
    }
   ],
   "source": [
    "a = Animal()\n",
    "a.speak()"
   ]
  },
  {
   "cell_type": "code",
   "execution_count": 3,
   "id": "7ff70cd3-a6e5-470f-bf45-1e292ac122f7",
   "metadata": {},
   "outputs": [
    {
     "name": "stdout",
     "output_type": "stream",
     "text": [
      "bark!\n"
     ]
    }
   ],
   "source": [
    "d = Dog()\n",
    "d.speak()"
   ]
  },
  {
   "cell_type": "markdown",
   "id": "a0ed5d98-f93f-4262-91e9-592b7bb5787f",
   "metadata": {},
   "source": [
    "**2. Write a program to create an abstract class Shape with a method area(). Derive classes Circle and Rectangle from it and implement the area() method in both**\n"
   ]
  },
  {
   "cell_type": "code",
   "execution_count": 9,
   "id": "939279bf-11b3-49cc-bfa9-31f0018764a9",
   "metadata": {},
   "outputs": [],
   "source": [
    "from abc import ABC,  abstractmethod\n",
    "import math\n",
    "\n",
    "class Shape(ABC):\n",
    "    @abstractmethod\n",
    "    def area(self):\n",
    "        pass\n",
    "\n",
    "class Circle(Shape):\n",
    "    def __init__(self, radius):\n",
    "        self.radius = radius\n",
    "\n",
    "    def area(self):\n",
    "            return math.pi*self.radius**2\n",
    "\n",
    "class Reactangle(Shape):\n",
    "    def __init__(self, width, height):\n",
    "        self.width = width\n",
    "        self.height = height\n",
    "\n",
    "    def area(self):\n",
    "        return self.width*self.height\n",
    "        "
   ]
  },
  {
   "cell_type": "code",
   "execution_count": 11,
   "id": "2d2c6656-305a-4191-99ae-b404b07ba6b8",
   "metadata": {},
   "outputs": [
    {
     "name": "stdout",
     "output_type": "stream",
     "text": [
      "Circle area:  78.53981633974483\n",
      "Rectangle area:  30\n"
     ]
    }
   ],
   "source": [
    "c= Circle(5)\n",
    "r = Reactangle(5,6)\n",
    "print(\"Circle area: \", c.area())\n",
    "print(\"Rectangle area: \", r.area())"
   ]
  },
  {
   "cell_type": "markdown",
   "id": "b639554b-0031-4e70-9a9e-f20a06f93dea",
   "metadata": {},
   "source": [
    "**3. Implement a multi-level inheritance scenario where a class Vehicle has an attribute type. Derive a class Car and further derive a class ElectricCar that adds a battery attribute.**"
   ]
  },
  {
   "cell_type": "code",
   "execution_count": 13,
   "id": "784a69c6-8afe-4f31-8769-c6913591a9cc",
   "metadata": {},
   "outputs": [],
   "source": [
    "class Vehicle:\n",
    "    def __init__(self, type):\n",
    "        self.type = type\n",
    "\n",
    "class Car(Vehicle):\n",
    "    def __init__(self, type, brand):\n",
    "        super().__init__(type)   #adds parent class's attribute\n",
    "        self.brand = brand       # car adds its own atribute\n",
    "\n",
    "class ElectricCar(Car):\n",
    "    def __init__(self, type, brand, battery):\n",
    "        super().__init__(type, brand)\n",
    "        self.batter = battery\n"
   ]
  },
  {
   "cell_type": "code",
   "execution_count": 15,
   "id": "83beef86-4f70-4f6d-b59e-c2474d040d81",
   "metadata": {},
   "outputs": [],
   "source": [
    "ecar = ElectricCar(\"4 wheeler\", \"Tata Motor\", \"100kwh\")"
   ]
  },
  {
   "cell_type": "code",
   "execution_count": 16,
   "id": "4a67736c-0966-4f8c-9de9-643a41565d04",
   "metadata": {},
   "outputs": [
    {
     "name": "stdout",
     "output_type": "stream",
     "text": [
      "4 wheeler Tata Motor 100kwh\n"
     ]
    }
   ],
   "source": [
    "print(ecar.type, ecar.brand, ecar.batter)"
   ]
  },
  {
   "cell_type": "markdown",
   "id": "aa5182e9-712c-4487-bd15-ed83dacc6f86",
   "metadata": {},
   "source": [
    "**4. Demonstrate polymorphism by creating a base class Bird with a method fly(). Create two derived classes Sparrow and Penguin that override the fly() method.**\n"
   ]
  },
  {
   "cell_type": "code",
   "execution_count": 19,
   "id": "b0ff9515-c36e-4596-8a43-7e4b6f572298",
   "metadata": {},
   "outputs": [],
   "source": [
    "class Bird:\n",
    "    def fly(self):\n",
    "        print(\"This bird can fly\")\n",
    "\n",
    "class Sparrow(Bird):\n",
    "    def fly(self):\n",
    "        print(\"Sparrow is a small bird\")\n",
    "\n",
    "class Penguine(Bird):\n",
    "    def fly(self):\n",
    "        print(\"Penguine can't fly.\")"
   ]
  },
  {
   "cell_type": "code",
   "execution_count": 20,
   "id": "560fa733-2597-4910-8ed3-7d51421a1baa",
   "metadata": {},
   "outputs": [
    {
     "name": "stdout",
     "output_type": "stream",
     "text": [
      "Sparrow is a small bird\n",
      "Penguine can't fly.\n"
     ]
    }
   ],
   "source": [
    "birds = [Sparrow(), Penguine()]\n",
    "for bird in birds:\n",
    "    bird.fly()"
   ]
  },
  {
   "cell_type": "markdown",
   "id": "b5672286-651a-43dc-9fcd-155eed4cd7e7",
   "metadata": {},
   "source": [
    "**5. Write a program to demonstrate encapsulation by creating a class BankAccount with private attributes balance and methods to deposit, withdraw, and check balance.**\n"
   ]
  },
  {
   "cell_type": "code",
   "execution_count": 21,
   "id": "19ef8a15-540d-4190-a854-bd3868608058",
   "metadata": {},
   "outputs": [
    {
     "name": "stdout",
     "output_type": "stream",
     "text": [
      "Deposited : 1200 \n",
      "Total Balance : 6200\n",
      "\n",
      "\n",
      "Withdrawn Amount : 700\n",
      "\n",
      "\n",
      "Current Balance : 5500\n"
     ]
    }
   ],
   "source": [
    "class BankAccount:\n",
    "    def __init__(self, initial_balance=5000):\n",
    "        self.__balance = initial_balance   # Private attribute\n",
    "\n",
    "    def deposit(self, amount):\n",
    "        if amount > 0:\n",
    "            self.__balance += amount\n",
    "            print('Deposited :', amount,'\\nTotal Balance :', self.__balance)\n",
    "        else:\n",
    "            print('Please Enter some Amount.')\n",
    "\n",
    "    def withdraw(self, amount):\n",
    "        if 0 < amount <= self.__balance:\n",
    "            self.__balance -= amount\n",
    "            print('\\n\\nWithdrawn Amount :', amount)\n",
    "        else:\n",
    "            print(\"Insufficient balance or invalid amount.\")\n",
    "\n",
    "    def check_balance(self):\n",
    "        print('\\n\\nCurrent Balance :', self.__balance)\n",
    "\n",
    "account = BankAccount()\n",
    "account.deposit(1200)\n",
    "account.withdraw(700)\n",
    "account.check_balance()"
   ]
  },
  {
   "cell_type": "markdown",
   "id": "396be882-23fb-4758-99ea-f4f8f3d1cab8",
   "metadata": {},
   "source": [
    "**6. Demonstrate runtime polymorphism using a method play() in a base class Instrument. Derive classes Guitar and Piano that implement their own version of play().**\n"
   ]
  },
  {
   "cell_type": "code",
   "execution_count": 22,
   "id": "385172d5-1a57-4fac-affc-c4eadabc4406",
   "metadata": {},
   "outputs": [
    {
     "name": "stdout",
     "output_type": "stream",
     "text": [
      "Strumming the guitar.\n",
      "Playing the Piano.\n"
     ]
    }
   ],
   "source": [
    "class Instrument:\n",
    "    def play(self):\n",
    "        parint(\"Playing an instrument.\")\n",
    "\n",
    "class Guitar(Instrument):\n",
    "    def play(self):\n",
    "        print(\"Strumming the guitar.\")\n",
    "\n",
    "class Piano(Instrument):\n",
    "    def play(self):\n",
    "        print(\"Playing the Piano.\")\n",
    "\n",
    "instruments = [Guitar(), Piano()]\n",
    "for instrument in instruments:\n",
    "    instrument.play()"
   ]
  },
  {
   "cell_type": "markdown",
   "id": "988a1559-725a-4fc1-8351-34f6c8d73a3d",
   "metadata": {},
   "source": [
    "**7. Create a class MathOperations with a class method add_numbers() to add two numbers and a static method subtract_numbers() to subtract two numbers.**"
   ]
  },
  {
   "cell_type": "code",
   "execution_count": 23,
   "id": "ac190065-5d91-4af4-a1ad-876756bfd6a4",
   "metadata": {},
   "outputs": [
    {
     "name": "stdout",
     "output_type": "stream",
     "text": [
      "Adding numbers : 101\n",
      "Subtracting numbers : 33\n"
     ]
    }
   ],
   "source": [
    "class MathOperations:\n",
    "    @classmethod\n",
    "    def add_numbers(cls, a, b):\n",
    "        return a+b\n",
    "\n",
    "    @staticmethod\n",
    "    def subtract_numbers(a, b):\n",
    "        return a - b\n",
    "\n",
    "math = MathOperations()\n",
    "print('Adding numbers :', math.add_numbers(67,34))\n",
    "print('Subtracting numbers :', math.subtract_numbers(67,34))"
   ]
  },
  {
   "cell_type": "markdown",
   "id": "326c5d3e-0b26-4780-ba27-9659e5b68597",
   "metadata": {},
   "source": [
    "**8. Implement a class Person with a class method to count the total number of persons created.**"
   ]
  },
  {
   "cell_type": "code",
   "execution_count": 24,
   "id": "a2d0a581-9ed1-45f3-bcc4-de6ead8c61dc",
   "metadata": {},
   "outputs": [
    {
     "name": "stdout",
     "output_type": "stream",
     "text": [
      "Total persons created : 5\n"
     ]
    }
   ],
   "source": [
    "class Person:\n",
    "    count = 0\n",
    "\n",
    "    def __init__(self, name):\n",
    "        self.name = name\n",
    "        Person.count += 1\n",
    "\n",
    "    @classmethod\n",
    "    def total_persons(cls):\n",
    "        return cls.count\n",
    "\n",
    "p1 = Person('Ankit')\n",
    "p2 = Person('Tamal')\n",
    "p3 = Person('Ranojoy')\n",
    "p4 = Person('Ranita')\n",
    "p5 = Person('Robbin')\n",
    "\n",
    "print('Total persons created :', Person.total_persons())"
   ]
  },
  {
   "cell_type": "markdown",
   "id": "eaf06ec2-2866-4b3f-a3c6-0923c40bcaa2",
   "metadata": {},
   "source": [
    "**9. Write a class Fraction with attributes numerator and denominator. Override the str method to display the fraction as \"numerator/denominator\".**"
   ]
  },
  {
   "cell_type": "code",
   "execution_count": 25,
   "id": "56c8cd80-ab2a-412c-94bc-7ef41d04f88c",
   "metadata": {},
   "outputs": [
    {
     "name": "stdout",
     "output_type": "stream",
     "text": [
      "5/7\n"
     ]
    }
   ],
   "source": [
    "class Fraction:\n",
    "    def __init__(self, numerator, denominator):\n",
    "        self.numerator = numerator\n",
    "        self.denominator = denominator\n",
    "\n",
    "    def __str__(self):\n",
    "        return f'{self.numerator}/{self.denominator}'\n",
    "\n",
    "f = Fraction(5,7)\n",
    "print(f)"
   ]
  },
  {
   "cell_type": "markdown",
   "id": "0b873642-aba0-4712-8352-6ab7f3621135",
   "metadata": {},
   "source": [
    "**10. Demonstrate operator overloading by creating a class Vector and overriding the add method to add two vectors.**"
   ]
  },
  {
   "cell_type": "code",
   "execution_count": 26,
   "id": "d469684d-2d78-408e-9172-06c7644e32de",
   "metadata": {},
   "outputs": [
    {
     "name": "stdout",
     "output_type": "stream",
     "text": [
      "(6, 8)\n"
     ]
    }
   ],
   "source": [
    "class Vector:\n",
    "    def __init__(self, x, y):\n",
    "        self.x = x\n",
    "        self.y = y\n",
    "\n",
    "    def __add__(self, other):\n",
    "        return Vector(self.x + other.x, self.y + other.y)\n",
    "\n",
    "    def __str__(self):\n",
    "        return f\"({self.x}, {self.y})\"\n",
    "\n",
    "v1 = Vector(2,3)\n",
    "v2 = Vector(4,5)\n",
    "v3 = v1 + v2\n",
    "print(v3)"
   ]
  },
  {
   "cell_type": "markdown",
   "id": "cf112642-202a-4096-83c0-8e7bc772e5dc",
   "metadata": {},
   "source": [
    "**11. Create a class Person with attributes name and age. Add a method greet() that prints \"Hello, my name is {name} and I am {age} years old.\"**"
   ]
  },
  {
   "cell_type": "code",
   "execution_count": 27,
   "id": "ef5ddfaa-56cc-4a97-adae-3c7a587fa926",
   "metadata": {},
   "outputs": [
    {
     "name": "stdout",
     "output_type": "stream",
     "text": [
      "Hello my name is Ankit and I am 27 years old.\n"
     ]
    }
   ],
   "source": [
    "class Person:\n",
    "    def __init__(self, name, age):\n",
    "        self.name = name\n",
    "        self.age = age\n",
    "\n",
    "    def greet(self):\n",
    "        print('Hello my name is', self.name, 'and I am', self.age, 'years old.')\n",
    "\n",
    "p = Person('Ankit', 27)\n",
    "p.greet()"
   ]
  },
  {
   "cell_type": "markdown",
   "id": "f8a2fd7b-e8ec-4556-ba28-2474f6809a97",
   "metadata": {},
   "source": [
    "**12. Implement a class Student with attributes name and grades. Create a method average_grade() to compute the average of the grades.**"
   ]
  },
  {
   "cell_type": "code",
   "execution_count": 28,
   "id": "2e8423fe-24ee-4d28-8ecc-e481dded64d6",
   "metadata": {},
   "outputs": [
    {
     "name": "stdout",
     "output_type": "stream",
     "text": [
      "Average grade : 83.33333333333333\n"
     ]
    }
   ],
   "source": [
    "class Student:\n",
    "    def __init__(self, name, grades):\n",
    "        self.name = name\n",
    "        self.grades = grades\n",
    "\n",
    "    def average_grade(self):\n",
    "        return sum(self.grades)/len(self.grades)\n",
    "\n",
    "s = Student('John', [85, 90, 75])\n",
    "print('Average grade :', s.average_grade())"
   ]
  },
  {
   "cell_type": "markdown",
   "id": "f3435de1-ec4e-42a6-9f49-b1537d15c32e",
   "metadata": {},
   "source": [
    "**13. Create a class Rectangle with methods set_dimensions() to set the dimensions and area() to calculate the area.**"
   ]
  },
  {
   "cell_type": "code",
   "execution_count": 30,
   "id": "c1d0b118-db04-4382-a27c-45b283e3932c",
   "metadata": {},
   "outputs": [
    {
     "name": "stdout",
     "output_type": "stream",
     "text": [
      "Area: 20\n"
     ]
    }
   ],
   "source": [
    "class Rectangle:\n",
    "    def set_dimensions(self, width, height):\n",
    "        self.width = width\n",
    "        self.height = height\n",
    "\n",
    "    def area(self):\n",
    "        return self.width * self.height\n",
    "\n",
    "# Example usage\n",
    "r = Rectangle()\n",
    "r.set_dimensions(5, 4)\n",
    "print(\"Area:\", r.area())"
   ]
  },
  {
   "cell_type": "markdown",
   "id": "45829340-f3ad-4cc5-85ff-efce308b5811",
   "metadata": {},
   "source": [
    "**14. Create a class Employee with a method calculate_salary() that computes the salary based on hours worked and hourly rate. Create a derived class Manager that adds a bonus to the salary.**"
   ]
  },
  {
   "cell_type": "code",
   "execution_count": 31,
   "id": "023207ac-5568-418a-bec3-398b05e68eb5",
   "metadata": {},
   "outputs": [
    {
     "name": "stdout",
     "output_type": "stream",
     "text": [
      "Employee Salary : 800\n",
      "Manager Salary : 1300\n"
     ]
    }
   ],
   "source": [
    "class Employee:\n",
    "    def calculate_salary (self, hours_worked, hourly_rate):\n",
    "        return hours_worked*hourly_rate\n",
    "\n",
    "class Manager(Employee):\n",
    "    def calculate_salary(self, hours_worked, hourly_rate, bonus):\n",
    "        base_salary = super().calculate_salary(hours_worked, hourly_rate)\n",
    "        return base_salary + bonus\n",
    "\n",
    "e = Employee()\n",
    "print('Employee Salary :',  e.calculate_salary(40,20))\n",
    "\n",
    "m = Manager()\n",
    "print('Manager Salary :', m.calculate_salary(40, 20, 500))"
   ]
  },
  {
   "cell_type": "markdown",
   "id": "19be6f49-f099-44b9-9b28-1d08be9072ed",
   "metadata": {},
   "source": [
    "**15. Create a class Product with attributes name, price, and quantity. Implement a method total_price() that calculates the total price of the product**"
   ]
  },
  {
   "cell_type": "code",
   "execution_count": 32,
   "id": "106c5857-ff24-4904-bdf1-4b1608cb8991",
   "metadata": {},
   "outputs": [
    {
     "name": "stdout",
     "output_type": "stream",
     "text": [
      "Total Price: 100000\n"
     ]
    }
   ],
   "source": [
    "class Product:\n",
    "    def __init__(self, name, price, quantity):\n",
    "        self.name = name\n",
    "        self.price = price\n",
    "        self.quantity = quantity\n",
    "\n",
    "    def total_price(self):\n",
    "        return self.price * self.quantity\n",
    "\n",
    "# Example usage\n",
    "p = Product(\"Laptop\", 50000, 2)\n",
    "print(\"Total Price:\", p.total_price())"
   ]
  },
  {
   "cell_type": "markdown",
   "id": "6c685c56-3719-4330-887e-1e33f9946ac0",
   "metadata": {},
   "source": [
    "**16. Create a class Animal with an abstract method sound(). Create two derived classes Cow and Sheep that implement the sound() method.**"
   ]
  },
  {
   "cell_type": "code",
   "execution_count": 33,
   "id": "672ed68a-c8e9-44b3-898c-7f00b3cdd6a6",
   "metadata": {},
   "outputs": [
    {
     "name": "stdout",
     "output_type": "stream",
     "text": [
      "Moo\n",
      "Baa\n"
     ]
    }
   ],
   "source": [
    "class Animal:\n",
    "    def sound(self):\n",
    "        raise NotImplementedError('Subclass must implement this method')\n",
    "\n",
    "class Cow(Animal):\n",
    "    def sound(self):\n",
    "        print('Moo')\n",
    "\n",
    "class Sheep(Animal):\n",
    "    def sound(self):\n",
    "        print(\"Baa\")\n",
    "\n",
    "animals = [Cow(), Sheep()]\n",
    "for animal in animals:\n",
    "    animal.sound()"
   ]
  },
  {
   "cell_type": "markdown",
   "id": "6eb5e52b-5e4c-4892-9fe3-4fd899ab9fa2",
   "metadata": {},
   "source": [
    "**17. Create a class Book with attributes title, author, and year_published. Add a method get_book_info() that returns a formatted string with the book's details.**"
   ]
  },
  {
   "cell_type": "code",
   "execution_count": 34,
   "id": "5044fae2-2ef6-4518-af31-bd470c2b61d3",
   "metadata": {},
   "outputs": [
    {
     "name": "stdout",
     "output_type": "stream",
     "text": [
      "'The Alchemist' by Paulo Coelho, published in 1988\n"
     ]
    }
   ],
   "source": [
    "class Book:\n",
    "    def __init__(self, title, author, year_published):\n",
    "        self.title = title\n",
    "        self.author = author\n",
    "        self.year_published = year_published\n",
    "\n",
    "    def get_book_info(self):\n",
    "        return f\"'{self.title}' by {self.author}, published in {self.year_published}\"\n",
    "\n",
    "\n",
    "b = Book(\"The Alchemist\", \"Paulo Coelho\", 1988)\n",
    "print(b.get_book_info())"
   ]
  },
  {
   "cell_type": "markdown",
   "id": "02ba00ca-ba69-4de5-a198-931faa757494",
   "metadata": {},
   "source": [
    "**18. Create a class House with attributes address and price. Create a derived class Mansion that adds an attribute number_of_rooms.**"
   ]
  },
  {
   "cell_type": "code",
   "execution_count": 35,
   "id": "7236124e-84a7-43e9-87bd-9efbfaae231e",
   "metadata": {},
   "outputs": [
    {
     "name": "stdout",
     "output_type": "stream",
     "text": [
      "123 Luxury Street 5000000 12\n"
     ]
    }
   ],
   "source": [
    "class House:\n",
    "    def __init__(self, address, price):\n",
    "        self.address = address\n",
    "        self.price = price\n",
    "\n",
    "class Mansion(House):\n",
    "    def __init__(self, address, price, number_of_rooms):\n",
    "        super().__init__(address, price)\n",
    "        self.number_of_rooms = number_of_rooms\n",
    "\n",
    "\n",
    "m = Mansion(\"123 Luxury Street\", 5000000, 12)\n",
    "print(m.address, m.price, m.number_of_rooms)"
   ]
  }
 ],
 "metadata": {
  "kernelspec": {
   "display_name": "Python [conda env:base] *",
   "language": "python",
   "name": "conda-base-py"
  },
  "language_info": {
   "codemirror_mode": {
    "name": "ipython",
    "version": 3
   },
   "file_extension": ".py",
   "mimetype": "text/x-python",
   "name": "python",
   "nbconvert_exporter": "python",
   "pygments_lexer": "ipython3",
   "version": "3.13.5"
  }
 },
 "nbformat": 4,
 "nbformat_minor": 5
}
