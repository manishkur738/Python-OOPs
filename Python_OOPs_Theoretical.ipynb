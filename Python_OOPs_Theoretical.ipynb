{
 "cells": [
  {
   "cell_type": "markdown",
   "id": "e306ad3c-2e8f-48b3-b0c8-70d4fe19a92b",
   "metadata": {},
   "source": [
    "## 🧠 Theoretical Questions"
   ]
  },
  {
   "cell_type": "markdown",
   "id": "22755ebd-03f3-44fe-b50a-7fd692e5413e",
   "metadata": {},
   "source": [
    "### 1. What is Object-Oriented Programming (OOP) ?"
   ]
  },
  {
   "cell_type": "markdown",
   "id": "b67d34b1-74ea-43e4-b8c9-697cec0072c8",
   "metadata": {},
   "source": [
    "**Object-Oriented Programming (OOP)** is a way of  designing programs by creating 'objects' that combine data (attributes) and actions (methods), making code organized, reusable and easier to manage."
   ]
  },
  {
   "cell_type": "markdown",
   "id": "793fa0fd-f43a-428d-aff6-11dd14612842",
   "metadata": {},
   "source": [
    "####\n",
    "### 2. What is a class in OOP ?"
   ]
  },
  {
   "cell_type": "markdown",
   "id": "6944c80e-907e-4bf6-be41-7d3d4c9fac7a",
   "metadata": {},
   "source": [
    "In OOP, a class is a blueprint or template for creating objects, defining the data (attributes) and actions (mmethods) that those objects will have."
   ]
  },
  {
   "cell_type": "markdown",
   "id": "9a693465-d710-4c67-b4fd-0230a2325897",
   "metadata": {},
   "source": [
    "####\n",
    "### 3. What is an object in OOP ?"
   ]
  },
  {
   "cell_type": "markdown",
   "id": "fed439de-5f90-446b-b952-9bcd9c8edd36",
   "metadata": {},
   "source": [
    "In OOP, an **object** is an instance of a class that contains its own data and can perform actions defined by the class."
   ]
  },
  {
   "cell_type": "markdown",
   "id": "0eaf847f-0fe6-43d6-b82d-b9dee8380353",
   "metadata": {},
   "source": [
    "####\n",
    "### 4. What is the difference between abstraction and encapsulation ?"
   ]
  },
  {
   "cell_type": "markdown",
   "id": "27cf6291-6897-4a5f-8c76-d6bc33a95d02",
   "metadata": {},
   "source": [
    "* **<u>Abstraction :</u>** Abstraction is about **hiding implementation details** and showing only the essential features to the user.<br>\n",
    "&emsp;**<u>Example :</u>** We use  TV remote  without knowing how the internal circuits work.\n",
    "<br><br>\n",
    "* **<u>Encapsulation :</u>** Encapsulattion is  about **wrapping data and methods** together inside a class and restricting direct acess to the data.<br>\n",
    "&emsp;**<u>Example :</u>** The TV's internal components are enclosed inside the TV body, preventing direct tampering."
   ]
  },
  {
   "cell_type": "markdown",
   "id": "d0294cb5-4800-4d4d-9e90-3746e3382549",
   "metadata": {},
   "source": [
    "####\n",
    "### 5.  What are dunder methods in Python ?"
   ]
  },
  {
   "cell_type": "markdown",
   "id": "944b6cc8-65b1-4da7-b718-eba1dfe5b9b9",
   "metadata": {},
   "source": [
    "**Dunder Methods** (short of **double underscore methods**) in Python are special built-in methods  that start and end with double underscore (__method__).<br>\n",
    "They let us define how objects of our class behave in certain situations (e.g, printing, addition, comparisons etc.)<br><br>\n",
    "&emsp;**<u>Example :</u>**"
   ]
  },
  {
   "cell_type": "code",
   "execution_count": 4,
   "id": "a2a311a0-aea8-483c-8bdc-92a26816bebd",
   "metadata": {},
   "outputs": [
    {
     "name": "stdout",
     "output_type": "stream",
     "text": [
      "School object with name Delhi Public School\n"
     ]
    }
   ],
   "source": [
    "class School:\n",
    "    def __init__(self, name):  # called when creating an object\n",
    "        self.name = name\n",
    "\n",
    "    def __str__(self):  # called when printing an object\n",
    "        return (f'School object with name {self.name}')\n",
    "\n",
    "obj = School('Delhi Public School')\n",
    "print(obj)"
   ]
  },
  {
   "cell_type": "markdown",
   "id": "33b09ec5-7b43-4a9e-a690-88f19db04d5a",
   "metadata": {},
   "source": [
    "####\n",
    "###  6. Explain the concept of inheritance in OOP."
   ]
  },
  {
   "cell_type": "markdown",
   "id": "2ea36011-62ac-4b33-84c9-5a93516ea33c",
   "metadata": {},
   "source": [
    "**Inheritance** in OOP is a feature that allows one class (child or subclass) to use the properties and methods of another class (parent  or superclass).<br>\n",
    "It helps to **reuse code** and create a hierarchy between classes. <br>\n",
    "\n",
    "* the child class can **use, extend** or **override** the parent class's behavior."
   ]
  },
  {
   "cell_type": "markdown",
   "id": "545dfe0c-3276-4290-8cf8-acb0f979b3c5",
   "metadata": {},
   "source": [
    "####\n",
    "### 7. What is polymorphism in OOP ?"
   ]
  },
  {
   "cell_type": "markdown",
   "id": "2e80fcb8-33cf-4d59-80a8-eddf66a417e2",
   "metadata": {},
   "source": [
    "**Polymorphism** in OOP means the ability of different classes to respond to the same method name in different ways.<br>\n",
    "- It allows the **same function or method call** to behave differently depending on the object it is acting on."
   ]
  },
  {
   "cell_type": "markdown",
   "id": "92f38ab3-f175-4570-acec-acfe94ac8e1b",
   "metadata": {},
   "source": [
    "####\n",
    "### 8.  How is encapsulation achieved in Python ?"
   ]
  },
  {
   "cell_type": "markdown",
   "id": "e894fa0d-b3c7-48d1-94e0-c66e2c5098ad",
   "metadata": {},
   "source": [
    "In Python **encapsulation** is achieved by **restricting direct access** to an object's data and controling it through methods.<br><br>\n",
    "This is done using access modifiers:<br>\n",
    "1. **Public →** No underscore (accessible everywhere)<br>\n",
    "2. **protected →** Single underscore '_var' (convention: should not be accessed directly outside the  class.)\n",
    "3. **Private →** Double underscore '__var' (name mangling to prevent diect access).<br><br>\n",
    "   **<u>Example :</u>**"
   ]
  },
  {
   "cell_type": "code",
   "execution_count": 12,
   "id": "250d6caa-8752-401c-bdaf-b247708f1ff1",
   "metadata": {},
   "outputs": [
    {
     "name": "stdout",
     "output_type": "stream",
     "text": [
      "john\n",
      "unknown\n",
      "50000\n"
     ]
    }
   ],
   "source": [
    "class Person:\n",
    "    def __init__(self, name, age):\n",
    "        self.name = name           # Public\n",
    "        self._address = 'unknown'  # Protected\n",
    "        self.__salary = 50000      # Private\n",
    "\n",
    "    def get_salary(self):\n",
    "        return self.__salary   # Access via method\n",
    "\n",
    "p = Person('john', 30)\n",
    "\n",
    "print(p.name)         # Public\n",
    "print(p._address)     # Possible but discouraged.\n",
    "# print(p.__salary)   # Error\n",
    "print(p.get_salary()) # Access via method"
   ]
  },
  {
   "cell_type": "markdown",
   "id": "6d1ae731-dc10-4d8e-8674-61d1c72483f6",
   "metadata": {},
   "source": [
    "####\n",
    "### 9.  What is a constructor in Python ?"
   ]
  },
  {
   "cell_type": "markdown",
   "id": "557439ae-182f-4a09-b333-0c15187313d5",
   "metadata": {},
   "source": [
    "In Python, a **constructor** is a special method named *__ init__*  that is automatically called when a new object of a class is created.\n",
    "\n",
    "It’s used to **initialize the object’s attributes**."
   ]
  },
  {
   "cell_type": "code",
   "execution_count": 14,
   "id": "97576ebc-d296-4515-94de-2ba09beabefa",
   "metadata": {},
   "outputs": [
    {
     "name": "stdout",
     "output_type": "stream",
     "text": [
      "Ankit 26\n"
     ]
    }
   ],
   "source": [
    "class Person:\n",
    "    def __init__(self, name, age):  # Constructor\n",
    "        self.name = name\n",
    "        self.age = age\n",
    "\n",
    "p = Person('Ankit', 26)  #__init__ called here\n",
    "print(p.name, p.age)"
   ]
  },
  {
   "cell_type": "markdown",
   "id": "53afe75a-63d3-44af-b5f5-dab0759443b7",
   "metadata": {},
   "source": [
    "####\n",
    "### 10. What are class and static methods in Python ?"
   ]
  },
  {
   "cell_type": "markdown",
   "id": "04e24335-a773-4699-bf5c-2a1ea1df9497",
   "metadata": {},
   "source": [
    "1. <u>**Class Methods** (@classmethod)</u>: <br>\n",
    "\n",
    "* Belong to the class rather than the instance.\n",
    "* Receive the class (cls) as the  first argument.\n",
    "* Can modify class-level data shared across all instances."
   ]
  },
  {
   "cell_type": "code",
   "execution_count": 16,
   "id": "bb584fe4-921d-4982-9059-041cd515526e",
   "metadata": {},
   "outputs": [
    {
     "name": "stdout",
     "output_type": "stream",
     "text": [
      "XYZ\n"
     ]
    }
   ],
   "source": [
    "class Student:\n",
    "    school = 'ABC'\n",
    "    @classmethod\n",
    "    def set_school(cls, name):\n",
    "        cls.school = name\n",
    "\n",
    "s = Student\n",
    "s.set_school('XYZ')\n",
    "print(s.school)"
   ]
  },
  {
   "cell_type": "markdown",
   "id": "6d8cd0c0-5636-409e-a1e0-682223f78674",
   "metadata": {},
   "source": [
    "2. <u>**Static Methods** (@staticmethod):</u>\n",
    "\n",
    "* belong to the **class**, but don't receive 'self' or 'cls' automatically.\n",
    "* Used for utility functions that don't need access to instance or class data.\n"
   ]
  },
  {
   "cell_type": "code",
   "execution_count": 18,
   "id": "b411c7cc-56ac-45d3-9137-78773a749e16",
   "metadata": {},
   "outputs": [
    {
     "name": "stdout",
     "output_type": "stream",
     "text": [
      "8\n"
     ]
    }
   ],
   "source": [
    "class MathUtils:\n",
    "    @staticmethod\n",
    "    def add(a,b):\n",
    "        return a + b\n",
    "\n",
    "print(MathUtils.add(3,5))"
   ]
  },
  {
   "cell_type": "markdown",
   "id": "31000b4b-43fe-41af-a103-8f1d68ae5db3",
   "metadata": {},
   "source": [
    "####\n",
    "### 11. What is method overloading in Python ?"
   ]
  },
  {
   "cell_type": "markdown",
   "id": "61adb47d-3d40-4a42-a6a8-63f45ac05eb6",
   "metadata": {},
   "source": [
    "**Method Overloading** in Pythoon is the abiliy to define a method in a class in such a way that it can accept diferent numbers or types of arguments.<br><br>\n",
    "**Example:**"
   ]
  },
  {
   "cell_type": "code",
   "execution_count": 1,
   "id": "76078fb7-f5b7-4857-a442-71c2c40a2ca0",
   "metadata": {},
   "outputs": [
    {
     "name": "stdout",
     "output_type": "stream",
     "text": [
      "Hello\n",
      "Hello Ankit\n"
     ]
    }
   ],
   "source": [
    "class Greet:\n",
    "    def hello(self, name=None):\n",
    "        if name:\n",
    "            print(\"Hello\", name)\n",
    "        else:\n",
    "            print(\"Hello\")\n",
    "\n",
    "g = Greet()\n",
    "g.hello()\n",
    "g.hello(\"Ankit\")"
   ]
  },
  {
   "cell_type": "markdown",
   "id": "b16f5af5-f064-4c4a-ad6f-0fb40fef10cb",
   "metadata": {},
   "source": [
    "####\n",
    "### 12. What is method overriding in OOP ?"
   ]
  },
  {
   "cell_type": "markdown",
   "id": "32c6dd92-4a49-4a8d-a82e-f95a57ce1a4d",
   "metadata": {},
   "source": [
    "**Method Overriding** is OOP is when a subclass provides a specific implementation of a method that is already defined in its parent class.\n",
    "\n",
    "* The overridden method in the child has the **same name, parameters and return type** as in the parent class but performs a different task."
   ]
  },
  {
   "cell_type": "markdown",
   "id": "2d13f83d-2966-46fd-896e-f110d77d19ff",
   "metadata": {},
   "source": [
    "####\n",
    "### 13.  What is a property decorator in Python ?"
   ]
  },
  {
   "cell_type": "markdown",
   "id": "d718b2ca-fb5e-4ee1-997b-7dfd467486ee",
   "metadata": {},
   "source": [
    "The '@property decorator' in Python is used to covert a class method into a read-only attribute. It alows you to define getters (and optionally setters and deleters) to access and modify rivate attributes in a controlled way, supporting **encapsulation, data hiding** and making the class interface cleaner and more aesthetic."
   ]
  },
  {
   "cell_type": "markdown",
   "id": "b83397b7-9a8a-45cb-8173-2bc0cc07ce38",
   "metadata": {},
   "source": [
    "####\n",
    "### 14. Why is polymorphism important in OOP ?"
   ]
  },
  {
   "cell_type": "markdown",
   "id": "40edd154-442b-40a0-8b78-1f6a51abf610",
   "metadata": {},
   "source": [
    "**Polymorphism** in OOP allows the same method name to behave differently based on the object calling it, enabling flexibility, code reusability, and easier maintenance.\n"
   ]
  },
  {
   "cell_type": "markdown",
   "id": "a80335e3-f779-4cc4-b171-2a8ae492e440",
   "metadata": {},
   "source": [
    "####\n",
    "### 15.  What is an abstract class in Python ?"
   ]
  },
  {
   "cell_type": "markdown",
   "id": "df779bef-7ee3-4725-9448-579c213bc7fb",
   "metadata": {},
   "source": [
    "**An abstract class** in Python is a class that cannot be instantiated and is meant to be inherited by other classes. It can define abstract methods using the `@abstractmethod` decorator from the `abc` module, which must be implemented by its subclasses, enforcing a common interface and promoting consistent design.\n"
   ]
  },
  {
   "cell_type": "markdown",
   "id": "e36203f6-ada7-48cd-b38a-1deb7c64042e",
   "metadata": {},
   "source": [
    "####\n",
    "### 16. What are the advantages of OOP ?"
   ]
  },
  {
   "cell_type": "markdown",
   "id": "7cc1ddc9-4bf6-4a16-9cac-9952649f50ab",
   "metadata": {},
   "source": [
    "**The advantages of OOP** include better code organization through classes and objects, reusability via inheritance, flexibility through polymorphism, data protection using encapsulation, and improved maintainability and scalability by modeling real-world entities in a modular and structured way.\n"
   ]
  },
  {
   "cell_type": "markdown",
   "id": "7e0aad8a-d966-4abf-b4ac-ece899864ffd",
   "metadata": {},
   "source": [
    "####\n",
    "### 17. What is the difference between a class variable and an instance variable ?"
   ]
  },
  {
   "cell_type": "markdown",
   "id": "f5f3be3b-d3cd-4917-9825-5550543831c1",
   "metadata": {},
   "source": [
    "A **class variable** is shared by all instances of a class and is defined outside of any instance methods, while an **instance variable** is unique to each object and is defined inside methods using `self`. Class variables maintain a common value across all objects, whereas instance variables store data specific to each object.\n"
   ]
  },
  {
   "cell_type": "markdown",
   "id": "527c427b-37b2-497c-b406-be134909234f",
   "metadata": {},
   "source": [
    "####\n",
    "### 18. What is multiple inheritance in Python ?"
   ]
  },
  {
   "cell_type": "markdown",
   "id": "874b3d9d-ff0a-492b-ad92-48d4994eca4d",
   "metadata": {},
   "source": [
    "**Multiple inheritance** in Python is a feature where a class can inherit from **more than one parent class**, allowing it to access attributes and methods from all its base classes. It enables code reuse across multiple classes but can introduce complexity, especially with method resolution order (MRO) when there are conflicts or overlapping methods.\n"
   ]
  },
  {
   "cell_type": "markdown",
   "id": "8f5c4bc4-60cb-44b7-806f-9a600379efb6",
   "metadata": {},
   "source": [
    "####\n",
    "### 19.  Explain the purpose of ‘’__str__’ and ‘__repr__’ ‘ methods in Python."
   ]
  },
  {
   "cell_type": "markdown",
   "id": "0865f4ef-88b8-44c0-a78b-e513a79df91f",
   "metadata": {},
   "source": [
    "The `__str__` method in Python defines the human-readable string representation of an object, used by functions like `print()`, while `__repr__` returns an unambiguous, developer-focused string that ideally can recreate the object and is used by default in the interpreter. Both help in customizing how objects are displayed for readability and debugging.\n"
   ]
  },
  {
   "cell_type": "markdown",
   "id": "171332e2-6df7-4096-bc6a-eebccfea817a",
   "metadata": {},
   "source": [
    "####\n",
    "### 20. What is the significance of the ‘super()’ function in Python ?"
   ]
  },
  {
   "cell_type": "markdown",
   "id": "70ef7ffb-92c3-46df-bc7c-6347189b8427",
   "metadata": {},
   "source": [
    "The `super()` function in Python is used to call methods from a parent class within a child class, allowing access to inherited methods without explicitly naming the parent. It is especially useful in multiple inheritance to ensure the correct method resolution order (MRO) and helps maintain cleaner, more maintainable code when extending functionality.\n"
   ]
  },
  {
   "cell_type": "markdown",
   "id": "647b6476-3ff0-4b3f-8156-a97d5c629f2d",
   "metadata": {},
   "source": [
    "####\n",
    "### 21. What is the significance of the __del__ method in Python?"
   ]
  },
  {
   "cell_type": "markdown",
   "id": "7300ea46-ce82-4617-ab59-ba2f5bd9285f",
   "metadata": {},
   "source": [
    "The `__del__` method in Python is a special method called when an object is about to be destroyed, typically used to perform cleanup tasks like closing files or releasing resources. It acts as a destructor but should be used carefully, as its execution timing is determined by Python's garbage collector and may not be predictable.\n"
   ]
  },
  {
   "cell_type": "markdown",
   "id": "c290db9c-ca38-42c8-94ce-1a6b9e731a94",
   "metadata": {},
   "source": [
    "####\n",
    "### 22. What is the difference between @staticmethod and @classmethod in Python ?"
   ]
  },
  {
   "cell_type": "markdown",
   "id": "5e29dade-6f86-4ae9-b456-5c53e0b4cc01",
   "metadata": {},
   "source": [
    "In Python, `@staticmethod` defines a method that belongs to the class but doesn't access or modify class or instance data, making it act like a regular function placed inside a class. In contrast, `@classmethod` takes the class (`cls`) as its first argument and can access or modify class-level data, making it useful for alternative constructors or class-wide changes.\n"
   ]
  },
  {
   "cell_type": "markdown",
   "id": "abe68560-232c-48e8-91ba-2f7428bc5415",
   "metadata": {},
   "source": [
    "####\n",
    "### 23. How does polymorphism work in Python with inheritance ?"
   ]
  },
  {
   "cell_type": "markdown",
   "id": "fc3d2949-e113-474b-8ebf-58efddfdb789",
   "metadata": {},
   "source": [
    "In Python, polymorphism with inheritance allows subclasses to override methods of a parent class, enabling different behaviors for the same method name depending on the object's class. This means a single interface can work with objects of different types, supporting dynamic method resolution and flexible, reusable code.\n"
   ]
  },
  {
   "cell_type": "markdown",
   "id": "1c4fd234-a760-41e3-8287-bd64d37bc706",
   "metadata": {},
   "source": [
    "####\n",
    "### 24. What is method chaining in Python OOP ?"
   ]
  },
  {
   "cell_type": "markdown",
   "id": "1b344055-a85e-4700-ba2b-dcfffab525b1",
   "metadata": {},
   "source": [
    "**Method chaining** in Python OOP is a technique where multiple methods are called on the same object in a single line by having each method return the object itself (`self`). This allows for cleaner and more readable code by linking method calls together sequentially.\n"
   ]
  },
  {
   "cell_type": "markdown",
   "id": "85509dcf-e877-4587-86b0-37d7f0103604",
   "metadata": {},
   "source": [
    "####\n",
    "### 25. What is the purpose of the __call__ method in Python ?"
   ]
  },
  {
   "cell_type": "markdown",
   "id": "38ad4e9b-a3f3-44ab-8099-ed6aa7a45ffc",
   "metadata": {},
   "source": [
    "The `__call__` method in Python allows an object to be called like a function. When defined in a class, it lets you use the object’s instance followed by parentheses (e.g., `obj()`) to execute custom behavior, making objects behave like callable functions.\n"
   ]
  }
 ],
 "metadata": {
  "kernelspec": {
   "display_name": "Python 3 (ipykernel)",
   "language": "python",
   "name": "python3"
  },
  "language_info": {
   "codemirror_mode": {
    "name": "ipython",
    "version": 3
   },
   "file_extension": ".py",
   "mimetype": "text/x-python",
   "name": "python",
   "nbconvert_exporter": "python",
   "pygments_lexer": "ipython3",
   "version": "3.12.7"
  }
 },
 "nbformat": 4,
 "nbformat_minor": 5
}
